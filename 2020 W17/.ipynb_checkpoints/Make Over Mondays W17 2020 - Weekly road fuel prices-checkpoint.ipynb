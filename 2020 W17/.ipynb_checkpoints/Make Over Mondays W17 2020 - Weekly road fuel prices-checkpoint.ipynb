{
 "cells": [
  {
   "cell_type": "markdown",
   "metadata": {},
   "source": [
    "Reference materials: https://data.world/makeovermonday/2020w17-weekly-road-fuel-prices"
   ]
  },
  {
   "cell_type": "code",
   "execution_count": null,
   "metadata": {},
   "outputs": [],
   "source": [
    "import pandas as pd\n",
    "import numpy as np\n",
    "import matplotlib.pyplot as plt\n",
    "import seaborn as sns\n"
   ]
  },
  {
   "cell_type": "code",
   "execution_count": null,
   "metadata": {},
   "outputs": [],
   "source": [
    "df = pd.read_excel('https://query.data.world/s/63lqshu6kpzd5hkcombzoyrgbz43et')\n"
   ]
  },
  {
   "cell_type": "markdown",
   "metadata": {},
   "source": [
    "## Explore data"
   ]
  },
  {
   "cell_type": "code",
   "execution_count": null,
   "metadata": {},
   "outputs": [],
   "source": [
    "df"
   ]
  },
  {
   "cell_type": "code",
   "execution_count": null,
   "metadata": {},
   "outputs": [],
   "source": [
    "df.describe()"
   ]
  },
  {
   "cell_type": "code",
   "execution_count": null,
   "metadata": {},
   "outputs": [],
   "source": []
  },
  {
   "cell_type": "markdown",
   "metadata": {},
   "source": [
    "## Clean data"
   ]
  },
  {
   "cell_type": "code",
   "execution_count": null,
   "metadata": {},
   "outputs": [],
   "source": [
    "df_clean = df[:-2]\n",
    "df_clean\n"
   ]
  },
  {
   "cell_type": "markdown",
   "metadata": {},
   "source": [
    "## Reshape data frame"
   ]
  },
  {
   "cell_type": "code",
   "execution_count": null,
   "metadata": {},
   "outputs": [],
   "source": [
    "df2 =pd.melt(df_clean, id_vars='Date', var_name='Type', value_name='Price (USD)')\n",
    "df2"
   ]
  },
  {
   "cell_type": "code",
   "execution_count": null,
   "metadata": {},
   "outputs": [],
   "source": [
    "# new df2_colsplit data frame with split value columns \n",
    "df2_colsplit = df2[\"Type\"].str.split(\" \", n = 1, expand = True) \n",
    "  \n",
    "# making separate Fuel Type column from df2_colsplit data frame \n",
    "df2[\"Fuel Type\"]= df2_colsplit[0] \n",
    "  \n",
    "# making separate Currency column from df2_colsplit data frame \n",
    "df2[\"Currency\"]= df2_colsplit[1] \n",
    "  \n",
    "# Dropping old Type columns \n",
    "df2.drop(columns =[\"Type\"], inplace = True)\n",
    "df2.drop(columns =[\"Currency\"], inplace = True)\n",
    "  \n",
    "# df2 display \n",
    "df2 "
   ]
  },
  {
   "cell_type": "code",
   "execution_count": null,
   "metadata": {},
   "outputs": [],
   "source": [
    "df2.describe()"
   ]
  },
  {
   "cell_type": "markdown",
   "metadata": {},
   "source": [
    "## Analyze"
   ]
  },
  {
   "cell_type": "code",
   "execution_count": null,
   "metadata": {},
   "outputs": [],
   "source": [
    "import matplotlib.pyplot as plt\n",
    "import seaborn as sns"
   ]
  },
  {
   "cell_type": "code",
   "execution_count": null,
   "metadata": {},
   "outputs": [],
   "source": [
    "#split data by new classification\n",
    "df2_Petrol = df2[df2['Fuel Type'] == 'Petrol']\n",
    "df2_Diesel = df2[df2['Fuel Type'] == 'Diesel']\n",
    "#df2_Diesel\n",
    "#df2_Petrol\n"
   ]
  },
  {
   "cell_type": "code",
   "execution_count": null,
   "metadata": {},
   "outputs": [],
   "source": [
    "#plot visualization \n",
    "\n",
    "#help(plt.scatter)\n",
    "#help(plt.subplots)\n",
    "\n",
    "fig, ax = plt.subplots(figsize=(20,10))\n",
    "\n",
    "#set plot style\n",
    "plt.style.use('seaborn-white') #print(plt.style.available)\n",
    "plt.grid(False)\n",
    "\n",
    "#set font styles\n",
    "title_font = {'family': 'sans',\n",
    "        'color':  '#151515',\n",
    "        'weight': 'bold',\n",
    "        'size': 20,\n",
    "        }\n",
    "axis_font = {'family': 'sans',\n",
    "        'color':  '#151515',\n",
    "        'weight': 'normal',\n",
    "        'size': 18,\n",
    "        }\n",
    "comment_font = {'family': 'sans',\n",
    "        'color':  '#BDBDBD',\n",
    "        'weight': 'bold',\n",
    "        'size': 18,\n",
    "        }\n",
    "\n",
    "#format plot\n",
    "plt.title('Petrol vs Diesel Prices Over Time\\n\\n', fontdict = title_font)\n",
    "plt.xlabel('Date', fontdict = axis_font)\n",
    "plt.ylabel('Price (USD)', fontdict = axis_font)\n",
    "\n",
    "\n",
    "#apply data to plot\n",
    "ax.plot_date(df2_Petrol['Date'], df2_Petrol['Price (USD)'], linestyle = 'solid', lw =3, marker = ' ', color = '#000000', label='Petrol')\n",
    "ax.plot_date(df2_Diesel['Date'], df2_Diesel['Price (USD)'], linestyle = 'solid', lw=3, marker = ' ',color = '#828282', label='Diesel')\n",
    "\n",
    "#add legend\n",
    "plt.legend(loc='upper center', bbox_to_anchor=(0.5, 1.08),ncol=3,prop={\"size\": 18})\n",
    "\n",
    "\n",
    "plt.show()"
   ]
  },
  {
   "cell_type": "markdown",
   "metadata": {},
   "source": [
    "## Export to CSV"
   ]
  },
  {
   "cell_type": "code",
   "execution_count": null,
   "metadata": {},
   "outputs": [],
   "source": [
    "df2.to_csv('fuel_prices.csv', index = False, header=True)"
   ]
  }
 ],
 "metadata": {
  "kernelspec": {
   "display_name": "Python 3",
   "language": "python",
   "name": "python3"
  },
  "language_info": {
   "codemirror_mode": {
    "name": "ipython",
    "version": 3
   },
   "file_extension": ".py",
   "mimetype": "text/x-python",
   "name": "python",
   "nbconvert_exporter": "python",
   "pygments_lexer": "ipython3",
   "version": "3.7.6"
  }
 },
 "nbformat": 4,
 "nbformat_minor": 4
}
